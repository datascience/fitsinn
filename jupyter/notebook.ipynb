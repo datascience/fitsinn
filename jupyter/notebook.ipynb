{
 "cells": [
  {
   "cell_type": "code",
   "execution_count": 1,
   "metadata": {},
   "outputs": [],
   "source": [
    "import pandas as pd\n",
    "import numpy as np"
   ]
  },
  {
   "cell_type": "code",
   "execution_count": 141,
   "metadata": {},
   "outputs": [],
   "source": [
    "def weighted_median1(values, weights):\n",
    "    sorted_indices = np.argsort(values)\n",
    "    sorted_values = sorted(values)\n",
    "    sorted_weights = sorted(weights)\n",
    "\n",
    "    cumulative_weights = np.cumsum(sorted_weights)\n",
    "    total_weight = np.sum(sorted_weights)\n",
    "\n",
    "    # Find the median index\n",
    "    median_index = np.searchsorted(cumulative_weights, total_weight / 2.0)\n",
    "\n",
    "    return sorted_values[median_index]"
   ]
  },
  {
   "cell_type": "code",
   "execution_count": 133,
   "metadata": {},
   "outputs": [],
   "source": [
    "#def weighted_median(df, val, weight):\n",
    "#    df_sorted = df.sort_values(val)\n",
    "#    cumsum = df_sorted[weight].cumsum()\n",
    "#    cutoff = df_sorted[weight].sum() / 2.\n",
    "#    return df_sorted[cumsum >= cutoff][val].iloc[0]\n",
    "\n",
    "#weighted_median(df, 'impwealth', 'indweight')"
   ]
  },
  {
   "cell_type": "code",
   "execution_count": 2,
   "metadata": {},
   "outputs": [],
   "source": [
    "dataset = pd.read_csv('data/weather_data_set.txt', sep=\"\\t\",  header=None)\n",
    "groundtruth = pd.read_csv('data/weather_ground_truth.txt', sep=\"\\t\")\n",
    "iti = 3"
   ]
  },
  {
   "cell_type": "code",
   "execution_count": null,
   "metadata": {},
   "outputs": [],
   "source": [
    "dataset"
   ]
  },
  {
   "cell_type": "markdown",
   "metadata": {},
   "source": [
    "Main CRH Method"
   ]
  },
  {
   "cell_type": "code",
   "execution_count": 113,
   "metadata": {},
   "outputs": [],
   "source": [
    "dataset.sort_values(by=[0], inplace=True)\n",
    "\n",
    "# Calculate statistics about the data\n",
    "nof = len(dataset)\n",
    "# Get the entry list\n",
    "list_entry = dataset[0].unique()\n",
    "# Get the source list\n",
    "list_source = dataset[2].unique()\n",
    "# Number of sources\n",
    "nos = len(list_source)\n",
    "# Number of entries\n",
    "noe = len(list_entry)\n",
    "\n",
    "# Modify entry_ia so that the following works\n",
    "entry_ia = np.append(np.arange(0, noe), nof)\n",
    "\n",
    "# Initialization\n",
    "ini_truth = []\n",
    "weight = np.ones(nos) / nos\n",
    "\n",
    "weight_vector = weight[dataset[2].values-1]\n",
    "weight_matrix = pd.DataFrame(weight_vector, columns=['weight'],index = dataset.index)\n",
    "# Calculate initial truth entry by entry\n",
    "\n",
    "stand_error=[]"
   ]
  },
  {
   "cell_type": "code",
   "execution_count": 116,
   "metadata": {},
   "outputs": [
    {
     "data": {
      "text/html": [
       "<div>\n",
       "<style scoped>\n",
       "    .dataframe tbody tr th:only-of-type {\n",
       "        vertical-align: middle;\n",
       "    }\n",
       "\n",
       "    .dataframe tbody tr th {\n",
       "        vertical-align: top;\n",
       "    }\n",
       "\n",
       "    .dataframe thead th {\n",
       "        text-align: right;\n",
       "    }\n",
       "</style>\n",
       "<table border=\"1\" class=\"dataframe\">\n",
       "  <thead>\n",
       "    <tr style=\"text-align: right;\">\n",
       "      <th></th>\n",
       "      <th>weight</th>\n",
       "    </tr>\n",
       "  </thead>\n",
       "  <tbody>\n",
       "    <tr>\n",
       "      <th>333</th>\n",
       "      <td>0.111111</td>\n",
       "    </tr>\n",
       "    <tr>\n",
       "      <th>153</th>\n",
       "      <td>0.111111</td>\n",
       "    </tr>\n",
       "  </tbody>\n",
       "</table>\n",
       "</div>"
      ],
      "text/plain": [
       "       weight\n",
       "333  0.111111\n",
       "153  0.111111"
      ]
     },
     "execution_count": 116,
     "metadata": {},
     "output_type": "execute_result"
    }
   ],
   "source": [
    "weight_matrix.loc[ [333, 153]]"
   ]
  },
  {
   "cell_type": "code",
   "execution_count": 110,
   "metadata": {},
   "outputs": [
    {
     "data": {
      "text/plain": [
       "Index([  333,   153,   334,   154,   335,   155,   336,   675,   855,   156,\n",
       "       ...\n",
       "       15650, 15657, 15658, 15659, 15666, 15667, 15668, 15675, 15676, 15677],\n",
       "      dtype='int64', length=16038)"
      ]
     },
     "execution_count": 110,
     "metadata": {},
     "output_type": "execute_result"
    }
   ],
   "source": [
    "weight_matrix.index"
   ]
  },
  {
   "cell_type": "code",
   "execution_count": 149,
   "metadata": {},
   "outputs": [],
   "source": [
    "for entry_id in list_entry:\n",
    "    val = dataset[dataset[0] == entry_id].values[0,1]\n",
    " \n",
    "    if not val.lstrip('-+').isdigit():  # Categorical data\n",
    "        same_entry = dataset[dataset[0]==entry_id]\n",
    "        tempvalue = same_entry[1].values\n",
    "        # Get unique value list on the same entry\n",
    "        temp_list = same_entry[1].unique()\n",
    "        wv = []\n",
    "\n",
    "        # Calculate the weighted occurrence for this entry\n",
    "        for k in range(len(temp_list)):\n",
    "            wv.append(np.sum(((tempvalue == temp_list[k]) * weight_matrix.loc[same_entry.index].values)))\n",
    "\n",
    "        # Get the voting result\n",
    "        I = np.argmax(wv)\n",
    "        ini_truth.append([entry_id, temp_list[I]])\n",
    "\n",
    "    else:  # Numerical data\n",
    "        \n",
    "        same_entry = dataset[dataset[0]==entry_id]\n",
    "        \n",
    "        tempvalue = same_entry[1].values\n",
    "        tempvalue_int = [int(x) for x in tempvalue]\n",
    "        median = np.median(tempvalue_int)\n",
    "        \n",
    "        # Calculate median for this entry\n",
    "        ini_truth.append([entry_id, median])\n",
    "        stand_error.append([entry_id,np.std(tempvalue_int) ])\n",
    "index_truth = [] #ini_truth.copy()\n",
    "truth_matrix = pd.DataFrame(ini_truth, columns=['entry_id', 'truth'])\n",
    "std_matrix = pd.DataFrame(stand_error, columns=['entry_id', 'error'])"
   ]
  },
  {
   "cell_type": "code",
   "execution_count": 150,
   "metadata": {
    "editable": true,
    "slideshow": {
     "slide_type": ""
    },
    "tags": []
   },
   "outputs": [],
   "source": [
    "# Initialize other parameters\n",
    "cat_count = np.zeros(nos)  # Count of categorical data for each source\n",
    "con_count = np.zeros(nos)  # Count of continuous data for each source"
   ]
  },
  {
   "cell_type": "code",
   "execution_count": 154,
   "metadata": {},
   "outputs": [
    {
     "name": "stdout",
     "output_type": "stream",
     "text": [
      "2100\n",
      "2100\n",
      "2100\n"
     ]
    }
   ],
   "source": [
    "for i in range(iti):\n",
    "    index_truth = []\n",
    "    score1 = np.zeros(nos)\n",
    "    score2 = np.zeros(nos)\n",
    "\n",
    "    # Update weight\n",
    "    \n",
    "    for j in range(len(dataset)):\n",
    "        val = dataset.loc[j].values[1]\n",
    "        entry_id = dataset.loc[j].values[0]\n",
    "        source_id = dataset.loc[j].values[2]\n",
    "        true_val=truth_matrix[truth_matrix['entry_id'] == entry_id].values[0,1]\n",
    "        if not val.lstrip('-+').isdigit():\n",
    "            true_val=truth_matrix[truth_matrix['entry_id'] == entry_id].values[0,1]\n",
    "            score1[source_id-1] += int(true_val != val)  #we count non-matching TypeError: weighted_median() missing 1 required positional argument: 'weight'values\n",
    "            #if i == 2:\n",
    "            cat_count[source_id-1] += 1\n",
    "        else:  # Numerical data\n",
    "            error=std_matrix[std_matrix['entry_id'] == entry_id].values[0,1]\n",
    "            if (error != 0 ):\n",
    "                score2[source_id-1] += np.abs( int(val) - int(true_val)) / error\n",
    "\n",
    "            #if i == 2:\n",
    "            con_count[source_id-1] += 1\n",
    "    score1 /= cat_count\n",
    "    score2 /= con_count\n",
    "    score1 /= sum(score1)\n",
    "    score2 /= sum(score2)\n",
    "\n",
    "    score = score1 + score2\n",
    "    norm_score = np.max(score)\n",
    "    w = score / norm_score\n",
    "    weight = -np.log(w) + 0.00001\n",
    "\n",
    "    weight_vector = weight[dataset[2].values-1]\n",
    "    weight_matrix = pd.DataFrame(weight_vector, columns=['weight'],index = dataset.index)\n",
    "    for entry_id in list_entry:\n",
    "        val = dataset[dataset[0] == entry_id].values[0,1]\n",
    "        if not val.lstrip('-+').isdigit():  # Categorical data\n",
    "            same_entry = dataset[dataset[0]==entry_id]\n",
    "            tempvalue = same_entry[1].values\n",
    "            temp_list = same_entry[1].unique()\n",
    "            wv = []\n",
    "            for k in range(len(temp_list)):\n",
    "                wv.append(np.sum(((tempvalue == temp_list[k]) * weight_matrix.loc[same_entry.index].values)))\n",
    "            I = np.argmax(wv)\n",
    "            index_truth.append([entry_id, temp_list[I]])\n",
    "        else:  # Numerical data\n",
    "            same_entry = dataset[dataset[0]==entry_id]\n",
    "            tempvalue = same_entry[1].values\n",
    "            tempvalue_int = [int(x) for x in tempvalue]\n",
    "            \n",
    "            tempweight=weight_matrix.loc[same_entry.index].values\n",
    "            wm = weighted_median1(tempvalue_int, tempweight)\n",
    "            index_truth.append([entry_id, wm])\n",
    "\n",
    "    print(len(index_truth))\n",
    "    truth_matrix = pd.DataFrame(index_truth, columns=['entry_id', 'truth'])\n",
    "\n",
    "\n",
    "\n",
    "\n",
    "\n",
    "        \n",
    "       \n",
    " "
   ]
  },
  {
   "cell_type": "code",
   "execution_count": 156,
   "metadata": {},
   "outputs": [
    {
     "data": {
      "text/html": [
       "<div>\n",
       "<style scoped>\n",
       "    .dataframe tbody tr th:only-of-type {\n",
       "        vertical-align: middle;\n",
       "    }\n",
       "\n",
       "    .dataframe tbody tr th {\n",
       "        vertical-align: top;\n",
       "    }\n",
       "\n",
       "    .dataframe thead th {\n",
       "        text-align: right;\n",
       "    }\n",
       "</style>\n",
       "<table border=\"1\" class=\"dataframe\">\n",
       "  <thead>\n",
       "    <tr style=\"text-align: right;\">\n",
       "      <th></th>\n",
       "      <th>entry_id</th>\n",
       "      <th>truth</th>\n",
       "    </tr>\n",
       "  </thead>\n",
       "  <tbody>\n",
       "    <tr>\n",
       "      <th>0</th>\n",
       "      <td>1</td>\n",
       "      <td>w-1</td>\n",
       "    </tr>\n",
       "    <tr>\n",
       "      <th>1</th>\n",
       "      <td>2</td>\n",
       "      <td>64</td>\n",
       "    </tr>\n",
       "    <tr>\n",
       "      <th>2</th>\n",
       "      <td>3</td>\n",
       "      <td>42</td>\n",
       "    </tr>\n",
       "    <tr>\n",
       "      <th>3</th>\n",
       "      <td>4</td>\n",
       "      <td>w-2</td>\n",
       "    </tr>\n",
       "    <tr>\n",
       "      <th>4</th>\n",
       "      <td>5</td>\n",
       "      <td>66</td>\n",
       "    </tr>\n",
       "    <tr>\n",
       "      <th>...</th>\n",
       "      <td>...</td>\n",
       "      <td>...</td>\n",
       "    </tr>\n",
       "    <tr>\n",
       "      <th>2095</th>\n",
       "      <td>2096</td>\n",
       "      <td>30</td>\n",
       "    </tr>\n",
       "    <tr>\n",
       "      <th>2096</th>\n",
       "      <td>2097</td>\n",
       "      <td>23</td>\n",
       "    </tr>\n",
       "    <tr>\n",
       "      <th>2097</th>\n",
       "      <td>2098</td>\n",
       "      <td>w-1</td>\n",
       "    </tr>\n",
       "    <tr>\n",
       "      <th>2098</th>\n",
       "      <td>2099</td>\n",
       "      <td>23</td>\n",
       "    </tr>\n",
       "    <tr>\n",
       "      <th>2099</th>\n",
       "      <td>2100</td>\n",
       "      <td>14</td>\n",
       "    </tr>\n",
       "  </tbody>\n",
       "</table>\n",
       "<p>2100 rows × 2 columns</p>\n",
       "</div>"
      ],
      "text/plain": [
       "      entry_id truth\n",
       "0            1   w-1\n",
       "1            2    64\n",
       "2            3    42\n",
       "3            4   w-2\n",
       "4            5    66\n",
       "...        ...   ...\n",
       "2095      2096    30\n",
       "2096      2097    23\n",
       "2097      2098   w-1\n",
       "2098      2099    23\n",
       "2099      2100    14\n",
       "\n",
       "[2100 rows x 2 columns]"
      ]
     },
     "execution_count": 156,
     "metadata": {},
     "output_type": "execute_result"
    }
   ],
   "source": [
    "truth_matrix"
   ]
  },
  {
   "cell_type": "code",
   "execution_count": null,
   "metadata": {},
   "outputs": [],
   "source": []
  }
 ],
 "metadata": {
  "colab": {
   "provenance": []
  },
  "kernelspec": {
   "display_name": "Python 3 (ipykernel)",
   "language": "python",
   "name": "python3"
  },
  "language_info": {
   "codemirror_mode": {
    "name": "ipython",
    "version": 3
   },
   "file_extension": ".py",
   "mimetype": "text/x-python",
   "name": "python",
   "nbconvert_exporter": "python",
   "pygments_lexer": "ipython3",
   "version": "3.11.6"
  }
 },
 "nbformat": 4,
 "nbformat_minor": 4
}
